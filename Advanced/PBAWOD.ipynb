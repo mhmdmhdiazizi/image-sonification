{
 "cells": [
  {
   "cell_type": "code",
   "execution_count": null,
   "id": "6d05cc71",
   "metadata": {},
   "outputs": [],
   "source": [
    "#Polar black and white parallel differential\n",
    "import cv2\n",
    "import numpy as np\n",
    "img = cv2.imread('main_image_deep_field_smacs0723-5mb - Copy.jpg')\n",
    "img = img.astype(np.float32)\n",
    "scale = 1\n",
    "max_radius = (np.sqrt(((img.shape[0] / 2.0) ** 2.0) + ((img.shape[1] / 2.0) ** 2.0))) / scale\n",
    "polar_image = cv2.linearPolar(img,(img.shape[0] / 2, img.shape[1] / 2), max_radius, cv2.WARP_FILL_OUTLIERS)\n",
    "polar_image = polar_image.astype(np.uint8)\n",
    "cv2.imwrite('polart1.jpg', polar_image)\n",
    "from PIL import Image\n",
    "import matplotlib.pyplot as plt\n",
    "#Read image\n",
    "img=Image.open('polart1.jpg') \n",
    "img =img.transpose(Image.ROTATE_90)\n",
    "#show image\n",
    "plt.imshow(img)\n",
    "plt.show()\n",
    "img.size"
   ]
  },
  {
   "cell_type": "code",
   "execution_count": null,
   "id": "5a8e7326",
   "metadata": {},
   "outputs": [],
   "source": [
    "w, h = img.size\n",
    "#instrumentName = 'harp'  #actual sound must be chosen after importing MIDI file into a DAW\n",
    "#note_str=['X','C2', 'C3', 'G3', 'C4', 'E4', 'G4', 'A#4', 'C5', 'D5', 'E5', 'F#5', 'G5', 'G#5'] #first 13 notes of the harmonic series\n",
    "#instrumentName = 'drums'\n",
    "#note_str=['X','C2', 'D2', 'E2', 'F#2', 'G#2', 'A#2', 'G2', 'A2', 'C3', 'D#3', 'E3', 'C#3', 'A3'] #drum 'notes'\n",
    "note_str=['C1', 'C2', 'G2', 'C3', 'E3', 'G3', 'A3', 'B3', 'D4', 'E4', 'G4', 'A4', 'B4',\n",
    "         'D5', 'E5', 'G5', 'A5', 'B5','D6', 'E6', 'F#6', 'G6', 'A6',] #drum 'notes'\n",
    "min_note=36\n",
    "max_note=96\n",
    "note_range = max_note-min_note ##len(note_str) \n",
    "small_img=img.resize((round(w/h*note_range),note_range),Image.BILINEAR)\n",
    "plt.imshow(small_img)\n",
    "small_img.size"
   ]
  },
  {
   "cell_type": "code",
   "execution_count": null,
   "id": "587e41a8",
   "metadata": {},
   "outputs": [],
   "source": [
    "grey_img = small_img.convert('L')\n",
    "plt.imshow(grey_img)"
   ]
  },
  {
   "cell_type": "code",
   "execution_count": 6,
   "id": "2568e150",
   "metadata": {},
   "outputs": [],
   "source": [
    "import numpy as np\n",
    "pixels = np.array(grey_img, dtype=int)\n",
    "#pixels.shape"
   ]
  },
  {
   "cell_type": "code",
   "execution_count": 7,
   "id": "eeb37581",
   "metadata": {},
   "outputs": [],
   "source": [
    "differential = np.zeros(pixels.shape)\n",
    "for j in range (1,round(w/h*note_range)):\n",
    "    for i in range(0,note_range):\n",
    "        differential[i,j]=abs(pixels[i,j]-pixels[i,j-1])"
   ]
  },
  {
   "cell_type": "code",
   "execution_count": null,
   "id": "9c770ef9",
   "metadata": {},
   "outputs": [],
   "source": [
    "plt.imshow(np.asarray(differential))\n",
    "plt.show()\n",
    "print(np.max(differential),np.min(differential),np.average(differential))"
   ]
  },
  {
   "cell_type": "code",
   "execution_count": null,
   "id": "779c39d8",
   "metadata": {},
   "outputs": [],
   "source": [
    "duration_scale= 64\n",
    "min_velocity = 0\n",
    "max_velocity = 127\n",
    "velocity_range = max_velocity- min_velocity\n",
    "x = differential\n",
    "grey_img2 = small_img.convert('L')\n",
    "pixels2 = np.round(np.array(grey_img2, dtype=int) / duration_scale)\n",
    "velocity = np.round(x / np.max(x) * velocity_range) + min_velocity\n",
    "plt.imshow(np.asarray(velocity))"
   ]
  },
  {
   "cell_type": "code",
   "execution_count": 12,
   "id": "c6b2d008",
   "metadata": {},
   "outputs": [],
   "source": [
    "from midiutil import MIDIFile\n",
    "from audiolazy import str2midi\n",
    "bpm = 64\n",
    "midifile = MIDIFile(adjust_origin=True)\n",
    "midifile.addTempo(track=0, time=0, tempo=bpm)    \n",
    "for j in range(0,round(w/h*note_range)):\n",
    "    for i in range(0,note_range):#pitch=str2midi(note_str[i])\n",
    "        if velocity[i,j] >= 30:\n",
    "             midifile.addNote(track=0, channel=0, pitch=max_note-i, time=j, duration=pixels2[i,j]+1, volume=int(velocity[i,j]))\n",
    "with open(\"pbawpd1.mid\", \"wb\") as f:\n",
    "    midifile.writeFile(f)"
   ]
  },
  {
   "cell_type": "code",
   "execution_count": 13,
   "id": "59c8ec91",
   "metadata": {},
   "outputs": [],
   "source": [
    "import cv2\n",
    "import numpy as np\n",
    "from PIL import Image\n",
    "original_img= Image.open('main_image_deep_field_smacs0723-5mb - Copy.jpg')\n",
    "width = height = 920\n",
    "small_img = original_img.resize((width,height), Image.BILINEAR)\n",
    "small_img.save('main_image_deep_field_smacs0723-5mb - Copy.png')\n",
    "fourcc = 0\n",
    "video = cv2.VideoWriter('video.mp4', fourcc, 1, (width, height))\n",
    "img = cv2.imread('main_image_deep_field_smacs0723-5mb - Copy.png')\n",
    "seconds = 31\n",
    "for j in range(0,seconds):\n",
    "    #img = cv2.imread('t1.jpg')\n",
    "    video.write(img)\n",
    "cv2.destroyAllWindows()\n",
    "video.release()"
   ]
  },
  {
   "cell_type": "code",
   "execution_count": 14,
   "id": "15faf3e3",
   "metadata": {},
   "outputs": [],
   "source": [
    "from PIL import ImageDraw\n",
    "cap = cv2.VideoCapture(\"video.mp4\")\n",
    "output = cv2.VideoWriter(\"moving.mp4\",fourcc, 1, (width, height))\n",
    "i = 0\n",
    "while(True):\n",
    "    ret, frame = cap.read()\n",
    "    if(ret):\n",
    "        i = i + 1\n",
    "        # adding no fill rectangle on each frame\n",
    "        #cv2.rectangle(frame, (int((i-1)/seconds*width),1), (int((i)/seconds*width),height-1),(255, 255, 255), 1)\n",
    "        #adding transparent rectangle on each frame\n",
    "        overlay = frame.copy()\n",
    "        max_radius = np.sqrt(((overlay.shape[0] / 2.0) ** 2.0) + ((overlay.shape[1] / 2.0) ** 2.0))\n",
    "        polar_image = cv2.linearPolar(overlay,(overlay.shape[0] / 2, overlay.shape[1] / 2), max_radius, cv2.WARP_FILL_OUTLIERS)\n",
    "        polar_image = polar_image.astype(np.uint8)\n",
    "        # Rectangle parameters\n",
    "        x, y, w, h = 0,int((i-1)/seconds*height),width , int(1/seconds*height) \n",
    "        # A filled rectangle\n",
    "        cv2.rectangle(polar_image, (x, y), (x+w, y+h), (255, 255, 255), -1)  \n",
    "        alpha = 0.25  # Transparency factor.\n",
    "        # Following line overlays transparent rectangle\n",
    "        # over the image\n",
    "        recovered_lin_polar_img = cv2.warpPolar(polar_image , (overlay.shape[0] , overlay.shape[1]),\n",
    "                                            (overlay.shape[0] / 2, overlay.shape[1] / 2), max_radius,\n",
    "                                            cv2.WARP_INVERSE_MAP);\n",
    "        image_new = cv2.addWeighted(recovered_lin_polar_img, alpha, frame, 1 - alpha, 0)  \n",
    "\n",
    "        \n",
    "        # writing the new frame in output\n",
    "        output.write(image_new)\n",
    "        #cv2.imshow(\"output\", frame)\n",
    "        if cv2.waitKey(1) & 0xFF == ord('s'):\n",
    "            break\n",
    "    else:\n",
    "        break\n",
    "#print(i)\n",
    "cv2.destroyAllWindows()\n",
    "output.release()\n",
    "cap.release()"
   ]
  },
  {
   "cell_type": "code",
   "execution_count": 15,
   "id": "a1dc9620",
   "metadata": {},
   "outputs": [
    {
     "name": "stdout",
     "output_type": "stream",
     "text": [
      "Moviepy - Building video output.mp4.\n",
      "MoviePy - Writing audio in outputTEMP_MPY_wvf_snd.mp3\n"
     ]
    },
    {
     "name": "stderr",
     "output_type": "stream",
     "text": [
      "                                                                                                                       \r"
     ]
    },
    {
     "name": "stdout",
     "output_type": "stream",
     "text": [
      "MoviePy - Done.\n",
      "Moviepy - Writing video output.mp4\n",
      "\n"
     ]
    },
    {
     "name": "stderr",
     "output_type": "stream",
     "text": [
      "                                                                                                                       \r"
     ]
    },
    {
     "name": "stdout",
     "output_type": "stream",
     "text": [
      "Moviepy - Done !\n",
      "Moviepy - video ready output.mp4\n"
     ]
    }
   ],
   "source": [
    "import moviepy.editor as mpe\n",
    "my_clip = mpe.VideoFileClip('moving.mp4')\n",
    "audio_background = mpe.AudioFileClip('Sonification_of_first_image_of_NASAs_JWST_Polar_version.mp3')\n",
    "final_clip = my_clip.set_audio(audio_background)\n",
    "final_clip.write_videofile(\"output.mp4\", fps = 30)"
   ]
  }
 ],
 "metadata": {
  "kernelspec": {
   "display_name": "Python 3 (ipykernel)",
   "language": "python",
   "name": "python3"
  },
  "language_info": {
   "codemirror_mode": {
    "name": "ipython",
    "version": 3
   },
   "file_extension": ".py",
   "mimetype": "text/x-python",
   "name": "python",
   "nbconvert_exporter": "python",
   "pygments_lexer": "ipython3",
   "version": "3.9.12"
  }
 },
 "nbformat": 4,
 "nbformat_minor": 5
}
