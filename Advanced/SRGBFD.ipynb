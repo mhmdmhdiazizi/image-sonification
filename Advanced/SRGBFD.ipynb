{
 "cells": [
  {
   "cell_type": "code",
   "execution_count": null,
   "id": "8dc5cfd8",
   "metadata": {},
   "outputs": [],
   "source": [
    "#Simple RGB full differential\n",
    "from PIL import Image\n",
    "import matplotlib.pyplot as plt\n",
    "#Read image\n",
    "img=Image.open('12WEBB-HP5-threeByTwoMediumAt2X.jpg') \n",
    "#img =img.transpose(Image.ROTATE_90)\n",
    "#show image\n",
    "plt.imshow(img)\n",
    "plt.show()\n",
    "img.size"
   ]
  },
  {
   "cell_type": "code",
   "execution_count": null,
   "id": "149fbe54",
   "metadata": {},
   "outputs": [],
   "source": [
    "import numpy as np\n",
    "w, h = img.size\n",
    "#instrumentName = 'harp'  #actual sound must be chosen after importing MIDI file into a DAW\n",
    "#note_str=['X','C2', 'C3', 'G3', 'C4', 'E4', 'G4', 'A#4', 'C5', 'D5', 'E5', 'F#5', 'G5', 'G#5'] #first 13 notes of the harmonic series\n",
    "#instrumentName = 'drums'\n",
    "#note_str=['X','C2', 'D2', 'E2', 'F#2', 'G#2', 'A#2', 'G2', 'A2', 'C3', 'D#3', 'E3', 'C#3', 'A3'] #drum 'notes'\n",
    "# A, A#, B, C, C#, D, D#, E, F, F#, G, G#  #violon 'notes'\n",
    "#note_str=['X','C1', 'C2', 'G2', 'C3', 'E3', 'G3', 'A3', 'B3', 'D4', 'E4', 'G4', 'A4', 'B4',\n",
    "         #'D5', 'E5', 'G5', 'A5', 'B5','D6', 'E6', 'F#6', 'G6', 'A6',] #drum 'notes'\n",
    "min_note=24\n",
    "max_note=84\n",
    "note_range =max_note-min_note   # you can try full note =>len(note_str)  (+some changes in the last cell)\n",
    "small_img=img.resize((round(w/h*note_range),note_range),Image.BILINEAR)\n",
    "plt.imshow(small_img)\n",
    "np.array(small_img).shape"
   ]
  },
  {
   "cell_type": "code",
   "execution_count": null,
   "id": "5b29ba6d",
   "metadata": {},
   "outputs": [],
   "source": [
    "img0 = np.asarray(np.array(small_img)[:,:,0])\n",
    "#img0 = Image.fromarray(img0, 'L')\n",
    "img1 = np.asarray(np.array(small_img)[:,:,1])\n",
    "#img1 = Image.fromarray(img1, 'L')\n",
    "img2 = np.asarray(np.array(small_img)[:,:,2])\n",
    "#img2 = Image.fromarray(img2, 'L')\n",
    "\n",
    "fig, axs = plt.subplots(1,3)\n",
    "fig.suptitle('Horizontally stacked subplots')\n",
    "axs[0].imshow(img0)\n",
    "axs[0].set_title('R')\n",
    "axs[1].imshow(img1)\n",
    "axs[1].set_title('G')\n",
    "axs[2].imshow(img2)\n",
    "axs[2].set_title('B')\n",
    "\n",
    "\n",
    "for ax in axs.flat:\n",
    "    ax.set(xlabel='x-label', ylabel='y-label')\n",
    "\n",
    "# Hide x labels and tick labels for top plots and y ticks for right plots.\n",
    "for ax in axs.flat:\n",
    "    ax.label_outer()"
   ]
  },
  {
   "cell_type": "code",
   "execution_count": 21,
   "id": "99cd7c8c",
   "metadata": {},
   "outputs": [
    {
     "data": {
      "text/plain": [
       "(60, 90, 3)"
      ]
     },
     "execution_count": 21,
     "metadata": {},
     "output_type": "execute_result"
    }
   ],
   "source": [
    "pixels = np.array(small_img, dtype=int)\n",
    "pixels.shape"
   ]
  },
  {
   "cell_type": "code",
   "execution_count": 22,
   "id": "8739a286",
   "metadata": {},
   "outputs": [],
   "source": [
    "differential = np.zeros(pixels.shape)\n",
    "for k in range(0,pixels.shape[2]):\n",
    "    for i in range(1,note_range):\n",
    "        for j in range (1,round(w/h*note_range)):\n",
    "            differential[i,j,k]=abs(pixels[i,j,k]-pixels[i,j-1,k])"
   ]
  },
  {
   "cell_type": "code",
   "execution_count": null,
   "id": "838b28ce",
   "metadata": {},
   "outputs": [],
   "source": [
    "fig, axs = plt.subplots(1,3)\n",
    "fig.suptitle('Horizontally stacked subplots')\n",
    "axs[0].imshow(differential[:,:,0])\n",
    "axs[0].set_title('R')\n",
    "axs[1].imshow(differential[:,:,1])\n",
    "axs[1].set_title('G')\n",
    "axs[2].imshow(differential[:,:,2])\n",
    "axs[2].set_title('B')\n",
    "\n",
    "\n",
    "for ax in axs.flat:\n",
    "    ax.set(xlabel='x-label', ylabel='y-label')\n",
    "\n",
    "# Hide x labels and tick labels for top plots and y ticks for right plots.\n",
    "for ax in axs.flat:\n",
    "    ax.label_outer()\n",
    "print(np.max(differential),np.min(differential),np.average(differential))"
   ]
  },
  {
   "cell_type": "code",
   "execution_count": 24,
   "id": "71d854cd",
   "metadata": {},
   "outputs": [],
   "source": [
    "duration_scale= 64\n",
    "min_velocity = 0\n",
    "max_velocity = 127\n",
    "velocity_range = max_velocity- min_velocity\n",
    "x = differential\n",
    "duration_img = small_img\n",
    "pixels2 = np.round(np.array(duration_img, dtype=int) / duration_scale)\n",
    "velocity = np.round(x / np.max(x) * velocity_range) + min_velocity"
   ]
  },
  {
   "cell_type": "code",
   "execution_count": 25,
   "id": "0d8d19d2",
   "metadata": {},
   "outputs": [],
   "source": [
    "from midiutil import MIDIFile\n",
    "from audiolazy import str2midi\n",
    "bpm = 60\n",
    "midifile = MIDIFile(adjust_origin=True)\n",
    "midifile.addTempo(track=0, time=0, tempo=bpm)\n",
    "for k in range(0,differential.shape[2]):\n",
    "    for j in range(0,round(w/h*note_range)):\n",
    "        for i in range(1,note_range): #pitch=str2midi(note_str[i])\n",
    "            if velocity[i,j,k] >= 30:\n",
    "                midifile.addNote(track=0, channel=0, pitch=i+min_note, time=j, duration=pixels2[i,j,k]+1, volume=int(velocity[i,j,k]))\n",
    "    with open(\"srgbfd\"+str(k)+\".mid\", \"wb\") as f:\n",
    "        midifile.writeFile(f)"
   ]
  },
  {
   "cell_type": "code",
   "execution_count": 26,
   "id": "b42f6f0e",
   "metadata": {},
   "outputs": [],
   "source": [
    "import cv2\n",
    "import numpy as np\n",
    "from PIL import Image\n",
    "original_img= Image.open('12WEBB-HP5-threeByTwoMediumAt2X.jpg')\n",
    "width = 920\n",
    "height = 920\n",
    "small_img = original_img.resize((width,height), Image.BILINEAR)\n",
    "small_img.save('12WEBB-HP5-threeByTwoMediumAt2X.png')\n",
    "fourcc = 0\n",
    "video = cv2.VideoWriter('video.mp4', fourcc, 1, (width, height))\n",
    "img = cv2.imread('12WEBB-HP5-threeByTwoMediumAt2X.png')\n",
    "seconds = 96\n",
    "for j in range(0,seconds):\n",
    "    #img = cv2.imread('t1.jpg')\n",
    "    video.write(img)\n",
    "cv2.destroyAllWindows()\n",
    "video.release()"
   ]
  },
  {
   "cell_type": "code",
   "execution_count": 27,
   "id": "94a5342b",
   "metadata": {},
   "outputs": [],
   "source": [
    "# reading the input\n",
    "from PIL import ImageDraw\n",
    "cap = cv2.VideoCapture(\"video.mp4\")\n",
    "output = cv2.VideoWriter(\"moving.mp4\",fourcc, 1, (width, height))\n",
    "i = 0\n",
    "while(True):\n",
    "    ret, frame = cap.read()\n",
    "    if(ret):\n",
    "        i = i + 1\n",
    "        # adding no fill rectangle on each frame\n",
    "        #cv2.rectangle(frame, (int((i-1)/seconds*width),1), (int((i)/seconds*width),height-1),(255, 255, 255), 1)\n",
    "        #adding transparent rectangle on each frame\n",
    "        overlay = frame.copy()\n",
    "        # Rectangle parameters\n",
    "        x, y, w, h = int((i-1)/seconds*width),1, int(1.5/seconds*width), height-2\n",
    "        # A filled rectangle\n",
    "        cv2.rectangle(overlay, (x, y), (x+w, y+h), (255, 255, 255), -1)  \n",
    "        alpha = 0.25  # Transparency factor.\n",
    "        # Following line overlays transparent rectangle\n",
    "        # over the image\n",
    "        image_new = cv2.addWeighted(overlay, alpha, frame, 1 - alpha, 0)\n",
    "        # writing the new frame in output\n",
    "        output.write(image_new)\n",
    "        #cv2.imshow(\"output\", frame)\n",
    "        if cv2.waitKey(1) & 0xFF == ord('s'):\n",
    "            break\n",
    "    else:\n",
    "        break\n",
    "#print(i)\n",
    "cv2.destroyAllWindows()\n",
    "output.release()\n",
    "cap.release()"
   ]
  },
  {
   "cell_type": "code",
   "execution_count": 28,
   "id": "6edd28cf",
   "metadata": {},
   "outputs": [
    {
     "name": "stdout",
     "output_type": "stream",
     "text": [
      "Moviepy - Building video output.mp4.\n",
      "MoviePy - Writing audio in outputTEMP_MPY_wvf_snd.mp3\n"
     ]
    },
    {
     "name": "stderr",
     "output_type": "stream",
     "text": [
      "                                                                                                                       \r"
     ]
    },
    {
     "name": "stdout",
     "output_type": "stream",
     "text": [
      "MoviePy - Done.\n",
      "Moviepy - Writing video output.mp4\n",
      "\n"
     ]
    },
    {
     "name": "stderr",
     "output_type": "stream",
     "text": [
      "                                                                                                                       \r"
     ]
    },
    {
     "name": "stdout",
     "output_type": "stream",
     "text": [
      "Moviepy - Done !\n",
      "Moviepy - video ready output.mp4\n"
     ]
    }
   ],
   "source": [
    "import moviepy.editor as mpe\n",
    "my_clip = mpe.VideoFileClip('moving.mp4')\n",
    "audio_background = mpe.AudioFileClip('001_Sonification_of_12WEBBHP5threeByTwoMediumAt2X.mp3')\n",
    "final_clip = my_clip.set_audio(audio_background)\n",
    "final_clip.write_videofile(\"output.mp4\",fps=30)"
   ]
  }
 ],
 "metadata": {
  "kernelspec": {
   "display_name": "Python 3 (ipykernel)",
   "language": "python",
   "name": "python3"
  },
  "language_info": {
   "codemirror_mode": {
    "name": "ipython",
    "version": 3
   },
   "file_extension": ".py",
   "mimetype": "text/x-python",
   "name": "python",
   "nbconvert_exporter": "python",
   "pygments_lexer": "ipython3",
   "version": "3.9.12"
  }
 },
 "nbformat": 4,
 "nbformat_minor": 5
}
