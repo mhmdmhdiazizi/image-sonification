{
 "cells": [
  {
   "cell_type": "code",
   "execution_count": null,
   "id": "07fec4f2",
   "metadata": {},
   "outputs": [],
   "source": [
    "#Simple black and white full differential\n",
    "from PIL import Image\n",
    "import matplotlib.pyplot as plt\n",
    "#Read image\n",
    "img=Image.open('t1.jpg') \n",
    "#img =img.transpose(Image.ROTATE_90)\n",
    "#show image\n",
    "plt.imshow(img)\n",
    "plt.show()\n",
    "img.size"
   ]
  },
  {
   "cell_type": "code",
   "execution_count": null,
   "id": "ecbadfae",
   "metadata": {},
   "outputs": [],
   "source": [
    "w, h = img.size\n",
    "#instrumentName = 'harp'  #actual sound must be chosen after importing MIDI file into a DAW\n",
    "#note_str=['X','C2', 'C3', 'G3', 'C4', 'E4', 'G4', 'A#4', 'C5', 'D5', 'E5', 'F#5', 'G5', 'G#5'] #first 13 notes of the harmonic series\n",
    "#instrumentName = 'drums'\n",
    "#note_str=['X','C2', 'D2', 'E2', 'F#2', 'G#2', 'A#2', 'G2', 'A2', 'C3', 'D#3', 'E3', 'C#3', 'A3'] #drum 'notes'\n",
    "note_str=['X','C1', 'C2', 'G2', 'C3', 'E3', 'G3', 'A3', 'B3', 'D4', 'E4', 'G4', 'A4', 'B4',\n",
    "         'D5', 'E5', 'G5', 'A5', 'B5','D6', 'E6', 'F#6', 'G6', 'A6',] #drum 'notes'\n",
    "min_note=34\n",
    "max_note=81\n",
    "note_range = len(note_str) # you can try full note => max_note-min_note(+some changes in the last cell)\n",
    "small_img=img.resize((round(w/h*note_range),note_range),Image.BILINEAR)\n",
    "plt.imshow(small_img)\n",
    "small_img.size"
   ]
  },
  {
   "cell_type": "code",
   "execution_count": null,
   "id": "d6b51a9e",
   "metadata": {},
   "outputs": [],
   "source": [
    "grey_img = small_img.convert('L')\n",
    "plt.imshow(grey_img)"
   ]
  },
  {
   "cell_type": "code",
   "execution_count": 4,
   "id": "70a7e3d5",
   "metadata": {},
   "outputs": [],
   "source": [
    "import numpy as np\n",
    "pixels = np.array(grey_img, dtype=int)\n",
    "#pixels.shape"
   ]
  },
  {
   "cell_type": "code",
   "execution_count": 5,
   "id": "0fc06d6e",
   "metadata": {},
   "outputs": [],
   "source": [
    "differential = np.zeros(pixels.shape)\n",
    "for i in range(1,note_range):\n",
    "    for j in range (1,round(w/h*note_range)):\n",
    "        differential[i,j]=max(abs(pixels[i,j]-pixels[i-1,j]),abs(pixels[i,j]-pixels[i,j-1]),abs(pixels[i,j]-pixels[i-1,j-1]))"
   ]
  },
  {
   "cell_type": "code",
   "execution_count": null,
   "id": "6ee829e8",
   "metadata": {},
   "outputs": [],
   "source": [
    "plt.imshow(np.asarray(differential))\n",
    "plt.show()\n",
    "print(np.max(differential),np.min(differential),np.average(differential))"
   ]
  },
  {
   "cell_type": "code",
   "execution_count": null,
   "id": "bd0e9637",
   "metadata": {},
   "outputs": [],
   "source": [
    "duration_scale= 64\n",
    "min_velocity = 37\n",
    "max_velocity = 127\n",
    "velocity_range = max_velocity- min_velocity\n",
    "x = differential\n",
    "grey_img2 = small_img.convert('L')\n",
    "pixels2 = np.round(np.array(grey_img2, dtype=int) / duration_scale)\n",
    "velocity = np.round(x / np.max(x) * velocity_range) + min_velocity\n",
    "plt.imshow(np.asarray(velocity))"
   ]
  },
  {
   "cell_type": "code",
   "execution_count": 8,
   "id": "70dc302d",
   "metadata": {},
   "outputs": [],
   "source": [
    "from midiutil import MIDIFile\n",
    "from audiolazy import str2midi\n",
    "bpm = 64\n",
    "midifile = MIDIFile(adjust_origin=True)\n",
    "midifile.addTempo(track=0, time=0, tempo=bpm)    \n",
    "for j in range(0,round(w/h*note_range)):\n",
    "    for i in range(1,note_range):\n",
    "         midifile.addNote(track=0, channel=0, pitch=str2midi(note_str[i]), time=j, duration=pixels2[i,j]+1, volume=int(velocity[i,j]))\n",
    "with open(\"sbawfd1.mid\", \"wb\") as f:\n",
    "    midifile.writeFile(f)"
   ]
  }
 ],
 "metadata": {
  "kernelspec": {
   "display_name": "Python 3 (ipykernel)",
   "language": "python",
   "name": "python3"
  },
  "language_info": {
   "codemirror_mode": {
    "name": "ipython",
    "version": 3
   },
   "file_extension": ".py",
   "mimetype": "text/x-python",
   "name": "python",
   "nbconvert_exporter": "python",
   "pygments_lexer": "ipython3",
   "version": "3.9.12"
  }
 },
 "nbformat": 4,
 "nbformat_minor": 5
}
