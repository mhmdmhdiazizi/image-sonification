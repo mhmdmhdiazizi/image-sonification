{
 "cells": [
  {
   "cell_type": "code",
   "execution_count": 20,
   "id": "16b90967",
   "metadata": {},
   "outputs": [],
   "source": [
    "import gizeh\n",
    "import moviepy.editor as mpy\n",
    "\n",
    "text_1 ='Sonification of Imaginary Galaxy Patterns'\n",
    "galaxy_name = 'IGP No. 17'\n",
    "algorithm = 'Sonification Algorithm: PBAWOD'\n",
    "width = 920\n",
    "height = 920\n",
    "d = 4\n",
    "duration = d + 3\n",
    "fps = 30\n",
    "def make_frame(t):\n",
    "    if t<= d:\n",
    "        surface = gizeh.Surface(width=width,height=height,bg_color=(0.05, 0.1, 0.15)) # width, height\n",
    "        index = round(len(text_1)*t/d)\n",
    "        text1 = gizeh.text(text_1[:index], fontfamily=\"Georgia\",  fontsize=24, fill=(0.3,0.4,0.5),\n",
    "                           xy=(int(width/2),int(height/2)-24 - 20), angle=0)\n",
    "        text1.draw(surface)\n",
    "    else:\n",
    "        surface = gizeh.Surface(width=width,height=height,bg_color=(0.05, 0.1, 0.15)) # width, height\n",
    "        text1 = gizeh.text(text_1, fontfamily=\"Georgia\",  fontsize=24, fill=(0.3,0.4,0.5),\n",
    "                           xy=(int(width/2),int(height/2)-24 - 20), angle=0)\n",
    "        t2cm = (t-d)/(duration-d)\n",
    "        text2 = gizeh.text(galaxy_name, fontfamily=\"Georgia\",  fontsize=24,\n",
    "                           fill=(0.05+(0.3-0.05)*t2cm,0.1+(0.4-0.1)*t2cm,0.15+(0.5-0.15)*t2cm),\n",
    "                           xy=(int(width/2),int(height/2)+24 - 20), angle=0)\n",
    "        t3cm = (t-d)/(duration-d)\n",
    "        text3 = gizeh.text(algorithm, fontfamily=\"Georgia\",  fontsize=20,\n",
    "                           fill=(0.05+(0.3-0.05)*t2cm,0.1+(0.4-0.1)*t2cm,0.15+(0.5-0.15)*t2cm),\n",
    "                           xy=(int(width/2),int(height/2)+24 + 20), angle=0)\n",
    "        text1.draw(surface)\n",
    "        text2.draw(surface)\n",
    "        text3.draw(surface)\n",
    "    return surface.get_npimage() # returns a 8-bit RGB array\n",
    "\n",
    "audio_background0 = mpy.AudioFileClip('StartBeat.mp3')\n",
    "clip0p = mpy.VideoClip(make_frame, duration= duration)\n",
    "final_clip0p = clip0p.set_audio(audio_background0)\n",
    "#final_clip0p.write_videofile(\"s0p.mp4\",fps= 30)"
   ]
  },
  {
   "cell_type": "code",
   "execution_count": 27,
   "id": "7d24f581",
   "metadata": {},
   "outputs": [
    {
     "name": "stdout",
     "output_type": "stream",
     "text": [
      "Moviepy - Building video s0s.mp4.\n",
      "MoviePy - Writing audio in s0sTEMP_MPY_wvf_snd.mp3\n"
     ]
    },
    {
     "name": "stderr",
     "output_type": "stream",
     "text": [
      "                                                                                                                       \r"
     ]
    },
    {
     "name": "stdout",
     "output_type": "stream",
     "text": [
      "MoviePy - Done.\n",
      "Moviepy - Writing video s0s.mp4\n",
      "\n"
     ]
    },
    {
     "name": "stderr",
     "output_type": "stream",
     "text": [
      "                                                                                                                       \r"
     ]
    },
    {
     "name": "stdout",
     "output_type": "stream",
     "text": [
      "Moviepy - Done !\n",
      "Moviepy - video ready s0s.mp4\n"
     ]
    }
   ],
   "source": [
    "import gizeh\n",
    "import moviepy.editor as mpy\n",
    "\n",
    "text_1 ='Sonification of Imaginary Galaxy Patterns'\n",
    "galaxy_name = 'IGP No. 17'\n",
    "algorithm = 'Sonification Algorithm: SRGBFD'\n",
    "width = 920\n",
    "height = 920\n",
    "d = 4\n",
    "duration = d + 3\n",
    "fps = 30\n",
    "def make_frame(t):\n",
    "    if t<= d:\n",
    "        surface = gizeh.Surface(width=width,height=height,bg_color=(0.05, 0.1, 0.15)) # width, height\n",
    "        index = round(len(text_1)*t/d)\n",
    "        text1 = gizeh.text(text_1[:index], fontfamily=\"Georgia\",  fontsize=24, fill=(0.3,0.4,0.5),\n",
    "                           xy=(int(width/2),int(height/2)-24 - 20), angle=0)\n",
    "        text1.draw(surface)\n",
    "    else:\n",
    "        surface = gizeh.Surface(width=width,height=height,bg_color=(0.05, 0.1, 0.15)) # width, height\n",
    "        text1 = gizeh.text(text_1, fontfamily=\"Georgia\",  fontsize=24, fill=(0.3,0.4,0.5),\n",
    "                           xy=(int(width/2),int(height/2)-24 - 20), angle=0)\n",
    "        t2cm = (t-d)/(duration-d)\n",
    "        text2 = gizeh.text(galaxy_name, fontfamily=\"Georgia\",  fontsize=24,\n",
    "                           fill=(0.05+(0.3-0.05)*t2cm,0.1+(0.4-0.1)*t2cm,0.15+(0.5-0.15)*t2cm),\n",
    "                           xy=(int(width/2),int(height/2)+24 - 20), angle=0)\n",
    "        t3cm = (t-d)/(duration-d)\n",
    "        text3 = gizeh.text(algorithm, fontfamily=\"Georgia\",  fontsize=20,\n",
    "                           fill=(0.05+(0.3-0.05)*t2cm,0.1+(0.4-0.1)*t2cm,0.15+(0.5-0.15)*t2cm),\n",
    "                           xy=(int(width/2),int(height/2)+24 + 20), angle=0)\n",
    "        text1.draw(surface)\n",
    "        text2.draw(surface)\n",
    "        text3.draw(surface)\n",
    "    return surface.get_npimage() # returns a 8-bit RGB array\n",
    "\n",
    "audio_background0 = mpy.AudioFileClip('StartBeat.mp3')\n",
    "clip0s = mpy.VideoClip(make_frame, duration= duration)\n",
    "final_clip0s = clip0s.set_audio(audio_background0)\n",
    "final_clip0s.write_videofile(\"s0s.mp4\",fps= fps)"
   ]
  },
  {
   "cell_type": "code",
   "execution_count": 21,
   "id": "0b82d078",
   "metadata": {
    "scrolled": true
   },
   "outputs": [
    {
     "name": "stdout",
     "output_type": "stream",
     "text": [
      "Moviepy - Building video si.mp4.\n",
      "Moviepy - Writing video si.mp4\n",
      "\n"
     ]
    },
    {
     "name": "stderr",
     "output_type": "stream",
     "text": [
      "                                                                                                                       \r"
     ]
    },
    {
     "name": "stdout",
     "output_type": "stream",
     "text": [
      "Moviepy - Done !\n",
      "Moviepy - video ready si.mp4\n"
     ]
    }
   ],
   "source": [
    "import gizeh\n",
    "import moviepy.editor as mpy\n",
    "\n",
    "text ='Imaginary Galaxy Pattern No. 17;'\n",
    "starter = 'One of the laws of the galaxy:'\n",
    "idea1 = 'In this galaxy, research and development on '\n",
    "idea2 = 'artificial intelligence systems has been banned. '\n",
    "idea3 = ' '\n",
    "idea4 =' '\n",
    "idea5 =' '\n",
    "width = 920\n",
    "height = 920\n",
    "d = 1.5\n",
    "d1 = d + 4.5\n",
    "duration = d1 + 4\n",
    "fps = 30\n",
    "def make_frame(t):\n",
    "    if t<= d:\n",
    "        surface = gizeh.Surface(width=width,height=height,bg_color=(0.05, 0.1, 0.15)) # width, height\n",
    "        t2cm = (t)/(d)\n",
    "        text2 = gizeh.text(text, fontfamily=\"Georgia\",  fontsize=24,\n",
    "                           fill=(0.05+(0.3-0.05)*t2cm,0.1+(0.4-0.1)*t2cm,0.15+(0.5-0.15)*t2cm),\n",
    "                           xy=(int(width/2),int(height/2)-24 - 24), angle=0)\n",
    "        t3cm = (t)/(d)\n",
    "        text3 = gizeh.text(starter, fontfamily=\"Georgia\",  fontsize=24,\n",
    "                           fill=(0.05+(0.3-0.05)*t2cm,0.1+(0.4-0.1)*t2cm,0.15+(0.5-0.15)*t3cm),\n",
    "                           xy=(int(width/2),int(height/2)-24 + 24), angle=0)\n",
    "        text2.draw(surface)\n",
    "        text3.draw(surface)\n",
    "    elif t<= d1:\n",
    "        surface = gizeh.Surface(width=width,height=height,bg_color=(0.05, 0.1, 0.15)) # width, height\n",
    "        index = round((len(idea1)+len(idea2)+len(idea3)+len(idea4)+len(idea5))*(t-d)/(d1-d))\n",
    "        text2 = gizeh.text(text, fontfamily=\"Georgia\",  fontsize=24,\n",
    "                           fill=(0.3,0.4,0.5),\n",
    "                           xy=(int(width/2),int(height/2)-24 - 24), angle=0)\n",
    "        text3 = gizeh.text(starter, fontfamily=\"Georgia\",  fontsize=24,\n",
    "                           fill=(0.3,0.4,0.5),\n",
    "                           xy=(int(width/2),int(height/2)-24 + 24), angle=0)\n",
    "        text2.draw(surface)\n",
    "        text3.draw(surface)\n",
    "        if index <= len(idea1):\n",
    "            text1 = gizeh.text(idea1[:index], fontfamily=\"Georgia\",  fontsize=24, fill=(0.3,0.4,0.5),\n",
    "                           xy=(int(width/2),int(height/2)+24 + 24*1.25), angle=0)\n",
    "            text1.draw(surface)\n",
    "        elif index <= len(idea1)+len(idea2):\n",
    "            text1 = gizeh.text(idea1, fontfamily=\"Georgia\",  fontsize=24, fill=(0.3,0.4,0.5),\n",
    "                           xy=(int(width/2),int(height/2)+24 + 24), angle=0)\n",
    "            text4 = gizeh.text(idea2[:index-len(idea1)], fontfamily=\"Georgia\",  fontsize=24, fill=(0.3,0.4,0.5),\n",
    "                           xy=(int(width/2),int(height/2)+24 + 24+ 24*1.25), angle=0)\n",
    "            text1.draw(surface)\n",
    "            text4.draw(surface)\n",
    "        elif index <= len(idea1)+len(idea2)+len(idea3):\n",
    "            text1 = gizeh.text(idea1, fontfamily=\"Georgia\",  fontsize=24, fill=(0.3,0.4,0.5),\n",
    "                           xy=(int(width/2),int(height/2)+24 + 24), angle=0)\n",
    "            text4 = gizeh.text(idea2, fontfamily=\"Georgia\",  fontsize=24, fill=(0.3,0.4,0.5),\n",
    "                           xy=(int(width/2),int(height/2)+24 + 24+ 24*1.25), angle=0)\n",
    "            text5 = gizeh.text(idea3[:index-len(idea1)-len(idea2)], fontfamily=\"Georgia\",  fontsize=24, fill=(0.3,0.4,0.5),\n",
    "                           xy=(int(width/2),int(height/2)+24 + 24+ 24*1.25+ 24*1.25), angle=0)\n",
    "            text1.draw(surface)\n",
    "            text4.draw(surface)\n",
    "            text5.draw(surface)\n",
    "        elif index <= len(idea1)+len(idea2)+len(idea3)+len(idea4):\n",
    "            text1 = gizeh.text(idea1, fontfamily=\"Georgia\",  fontsize=24, fill=(0.3,0.4,0.5),\n",
    "                           xy=(int(width/2),int(height/2)+24 + 24), angle=0)\n",
    "            text4 = gizeh.text(idea2, fontfamily=\"Georgia\",  fontsize=24, fill=(0.3,0.4,0.5),\n",
    "                           xy=(int(width/2),int(height/2)+24 + 24+ 24*1.25), angle=0)\n",
    "            text5 = gizeh.text(idea3, fontfamily=\"Georgia\",  fontsize=24, fill=(0.3,0.4,0.5),\n",
    "                           xy=(int(width/2),int(height/2)+24 + 24+ 24*1.25+ 24*1.25), angle=0)\n",
    "            text6 = gizeh.text(idea4[:index-len(idea1)-len(idea2)-len(idea3)], fontfamily=\"Georgia\",\n",
    "                               fontsize=24, fill=(0.3,0.4,0.5),\n",
    "                           xy=(int(width/2),int(height/2)+24 + 24+ 24*1.25+ 24*1.25+ 24*1.25), angle=0)\n",
    "            text1.draw(surface)\n",
    "            text4.draw(surface)\n",
    "            text5.draw(surface)\n",
    "            text6.draw(surface)\n",
    "        else:\n",
    "            text1 = gizeh.text(idea1, fontfamily=\"Georgia\",  fontsize=24, fill=(0.3,0.4,0.5),\n",
    "                           xy=(int(width/2),int(height/2)+24 + 24), angle=0)\n",
    "            text4 = gizeh.text(idea2, fontfamily=\"Georgia\",  fontsize=24, fill=(0.3,0.4,0.5),\n",
    "                           xy=(int(width/2),int(height/2)+24 + 24+ 24*1.25), angle=0)\n",
    "            text5 = gizeh.text(idea3, fontfamily=\"Georgia\",  fontsize=24, fill=(0.3,0.4,0.5),\n",
    "                           xy=(int(width/2),int(height/2)+24 + 24+ 24*1.25+ 24*1.25), angle=0)\n",
    "            text6 = gizeh.text(idea4, fontfamily=\"Georgia\",\n",
    "                               fontsize=24, fill=(0.3,0.4,0.5),\n",
    "                           xy=(int(width/2),int(height/2)+24 + 24+ 24*1.25+ 24*1.25+ 24*1.25), angle=0)\n",
    "            text7 = gizeh.text(idea5[:index-len(idea1)-len(idea2)-len(idea3)-len(idea4)], fontfamily=\"Georgia\",\n",
    "                               fontsize=24, fill=(0.3,0.4,0.5),\n",
    "                           xy=(int(width/2),int(height/2)+24 + 24+ 24*1.25+ 24*1.25+ 24*1.25+ 24*1.25), angle=0)\n",
    "            text1.draw(surface)\n",
    "            text4.draw(surface)\n",
    "            text5.draw(surface)\n",
    "            text6.draw(surface)\n",
    "            text7.draw(surface)\n",
    "    else:\n",
    "        surface = gizeh.Surface(width=width,height=height,bg_color=(0.05, 0.1, 0.15)) # width, height\n",
    "        text1 = gizeh.text(idea1, fontfamily=\"Georgia\",  fontsize=24, fill=(0.3,0.4,0.5),\n",
    "                           xy=(int(width/2),int(height/2)+24 + 24), angle=0)\n",
    "        text4 = gizeh.text(idea2, fontfamily=\"Georgia\",  fontsize=24, fill=(0.3,0.4,0.5),\n",
    "                           xy=(int(width/2),int(height/2)+24 + 24+ 24*1.25), angle=0)\n",
    "        text5 = gizeh.text(idea3, fontfamily=\"Georgia\",  fontsize=24, fill=(0.3,0.4,0.5),\n",
    "                           xy=(int(width/2),int(height/2)+24 + 24+ 24*1.25+ 24*1.25), angle=0)\n",
    "        text6 = gizeh.text(idea4, fontfamily=\"Georgia\",\n",
    "                               fontsize=24, fill=(0.3,0.4,0.5),\n",
    "                           xy=(int(width/2),int(height/2)+24 + 24+ 24*1.25+ 24*1.25+ 24*1.25), angle=0)\n",
    "        text7 = gizeh.text(idea5, fontfamily=\"Georgia\",\n",
    "                               fontsize=24, fill=(0.3,0.4,0.5),\n",
    "                           xy=(int(width/2),int(height/2)+24 + 24+ 24*1.25+ 24*1.25+ 24*1.25+ 24*1.25), angle=0)\n",
    "        text2 = gizeh.text(text, fontfamily=\"Georgia\",  fontsize=24,\n",
    "                           fill=(0.3,0.4,0.5),\n",
    "                           xy=(int(width/2),int(height/2)-24 - 24), angle=0)\n",
    "        text3 = gizeh.text(starter, fontfamily=\"Georgia\",  fontsize=24,\n",
    "                           fill=(0.3,0.4,0.5),\n",
    "                           xy=(int(width/2),int(height/2)-24 + 24), angle=0)\n",
    "        text1.draw(surface)\n",
    "        text2.draw(surface)\n",
    "        text3.draw(surface)\n",
    "        text4.draw(surface)\n",
    "        text5.draw(surface)\n",
    "        text6.draw(surface)\n",
    "        text7.draw(surface)\n",
    "    return surface.get_npimage() # returns a 8-bit RGB array\n",
    "\n",
    "clipi = mpy.VideoClip(make_frame, duration= duration)\n",
    "clipi.write_videofile(\"si.mp4\",fps= fps)"
   ]
  },
  {
   "cell_type": "code",
   "execution_count": 28,
   "id": "2b680dd7",
   "metadata": {},
   "outputs": [],
   "source": [
    "import cv2\n",
    "import numpy as np\n",
    "from PIL import Image\n",
    "original_img= Image.open('IGP17.jpg')\n",
    "width = height = 920\n",
    "small_img = original_img.resize((width,height), Image.BILINEAR)\n",
    "small_img.save('t1.png')\n",
    "fourcc = 0\n",
    "video = cv2.VideoWriter('video.mp4', fourcc, 1, (width, height))\n",
    "img = cv2.imread('t1.png')\n",
    "seconds = 60\n",
    "for j in range(0,seconds):\n",
    "    #img = cv2.imread('t1.jpg')\n",
    "    video.write(img)\n",
    "cv2.destroyAllWindows()\n",
    "video.release()"
   ]
  },
  {
   "cell_type": "code",
   "execution_count": 29,
   "id": "24e03130",
   "metadata": {},
   "outputs": [],
   "source": [
    "# reading the input\n",
    "from PIL import ImageDraw\n",
    "cap = cv2.VideoCapture(\"video.mp4\")\n",
    "output = cv2.VideoWriter(\"moving.mp4\",fourcc, 1, (width, height))\n",
    "i = 0\n",
    "while(True):\n",
    "    ret, frame = cap.read()\n",
    "    if(ret):\n",
    "        i = i + 1\n",
    "        # adding no fill rectangle on each frame\n",
    "        #cv2.rectangle(frame, (int((i-1)/seconds*width),1), (int((i)/seconds*width),height-1),(255, 255, 255), 1)\n",
    "        #adding transparent rectangle on each frame\n",
    "        overlay = frame.copy()\n",
    "        max_radius = np.sqrt(((overlay.shape[0] / 2.0) ** 2.0) + ((overlay.shape[1] / 2.0) ** 2.0))\n",
    "        polar_image = cv2.linearPolar(overlay,(overlay.shape[0] / 2, overlay.shape[1] / 2), max_radius, cv2.WARP_FILL_OUTLIERS)\n",
    "        polar_image = polar_image.astype(np.uint8)\n",
    "        # Rectangle parameters\n",
    "        x, y, w, h = 0,int((i-1)/seconds*height),width , int(1/seconds*height) \n",
    "        # A filled rectangle\n",
    "        cv2.rectangle(polar_image, (x, y), (x+w, y+h), (255, 255, 255), -1)  \n",
    "        alpha = 0.25  # Transparency factor.\n",
    "        # Following line overlays transparent rectangle\n",
    "        # over the image\n",
    "        recovered_lin_polar_img = cv2.warpPolar(polar_image , (overlay.shape[0] , overlay.shape[1]),\n",
    "                                            (overlay.shape[0] / 2, overlay.shape[1] / 2), max_radius,\n",
    "                                            cv2.WARP_INVERSE_MAP);\n",
    "        image_new = cv2.addWeighted(recovered_lin_polar_img, alpha, frame, 1 - alpha, 0)  \n",
    "\n",
    "        \n",
    "        # writing the new frame in output\n",
    "        output.write(image_new)\n",
    "        #cv2.imshow(\"output\", frame)\n",
    "        if cv2.waitKey(1) & 0xFF == ord('s'):\n",
    "            break\n",
    "    else:\n",
    "        break\n",
    "#print(i)\n",
    "cv2.destroyAllWindows()\n",
    "output.release()\n",
    "cap.release()"
   ]
  },
  {
   "cell_type": "code",
   "execution_count": 24,
   "id": "9b2d9d71",
   "metadata": {},
   "outputs": [],
   "source": [
    "clip1 = mpy.VideoFileClip('moving.mp4')\n",
    "audio_background1 = mpy.AudioFileClip('IGP17SonifiedPBAWOD.mp3')\n",
    "final_clip1 = clip1.set_audio(audio_background1)\n",
    "#final_clip1 .write_videofile(\"s1.mp4\")"
   ]
  },
  {
   "cell_type": "code",
   "execution_count": 25,
   "id": "65981c78",
   "metadata": {
    "scrolled": true
   },
   "outputs": [
    {
     "name": "stdout",
     "output_type": "stream",
     "text": [
      "Moviepy - Building video IGP17PBAWOD.mp4.\n",
      "MoviePy - Writing audio in IGP17PBAWODTEMP_MPY_wvf_snd.mp3\n"
     ]
    },
    {
     "name": "stderr",
     "output_type": "stream",
     "text": [
      "                                                                                                                       \r"
     ]
    },
    {
     "name": "stdout",
     "output_type": "stream",
     "text": [
      "MoviePy - Done.\n",
      "Moviepy - Writing video IGP17PBAWOD.mp4\n",
      "\n"
     ]
    },
    {
     "name": "stderr",
     "output_type": "stream",
     "text": [
      "                                                                                                                       \r"
     ]
    },
    {
     "name": "stdout",
     "output_type": "stream",
     "text": [
      "Moviepy - Done !\n",
      "Moviepy - video ready IGP17PBAWOD.mp4\n"
     ]
    }
   ],
   "source": [
    "video0 = mpy.concatenate_videoclips([final_clip0p,clipi, final_clip1])\n",
    "video0.write_videofile('IGP17PBAWOD.mp4', fps=30)"
   ]
  },
  {
   "cell_type": "code",
   "execution_count": 30,
   "id": "19d2704c",
   "metadata": {},
   "outputs": [],
   "source": [
    "import cv2\n",
    "import numpy as np\n",
    "from PIL import Image\n",
    "original_img= Image.open('IGP17.jpg')\n",
    "width = height = 920\n",
    "small_img = original_img.resize((width,height), Image.BILINEAR)\n",
    "small_img.save('t1.png')\n",
    "fourcc = 0\n",
    "video = cv2.VideoWriter('video.mp4', fourcc, 1, (width, height))\n",
    "img = cv2.imread('t1.png')\n",
    "seconds = 24\n",
    "for j in range(0,seconds):\n",
    "    #img = cv2.imread('t1.jpg')\n",
    "    video.write(img)\n",
    "cv2.destroyAllWindows()\n",
    "video.release()"
   ]
  },
  {
   "cell_type": "code",
   "execution_count": 31,
   "id": "0b0159fb",
   "metadata": {},
   "outputs": [],
   "source": [
    "# reading the input\n",
    "from PIL import ImageDraw\n",
    "cap = cv2.VideoCapture(\"video.mp4\")\n",
    "output = cv2.VideoWriter(\"moving.mp4\",fourcc, 1, (width, height))\n",
    "i = 0\n",
    "while(True):\n",
    "    ret, frame = cap.read()\n",
    "    if(ret):\n",
    "        i = i + 1\n",
    "        # adding no fill rectangle on each frame\n",
    "        #cv2.rectangle(frame, (int((i-1)/seconds*width),1), (int((i)/seconds*width),height-1),(255, 255, 255), 1)\n",
    "        #adding transparent rectangle on each frame\n",
    "        overlay = frame.copy()\n",
    "        # Rectangle parameters\n",
    "        x, y, w, h = int((i-1)/seconds*width),1, int(1.5/seconds*width), height-2\n",
    "        # A filled rectangle\n",
    "        cv2.rectangle(overlay, (x, y), (x+w, y+h), (255, 255, 255), -1)  \n",
    "        alpha = 0.25  # Transparency factor.\n",
    "        # Following line overlays transparent rectangle\n",
    "        # over the image\n",
    "        image_new = cv2.addWeighted(overlay, alpha, frame, 1 - alpha, 0)\n",
    "        # writing the new frame in output\n",
    "        output.write(image_new)\n",
    "        #cv2.imshow(\"output\", frame)\n",
    "        if cv2.waitKey(1) & 0xFF == ord('s'):\n",
    "            break\n",
    "    else:\n",
    "        break\n",
    "#print(i)\n",
    "cv2.destroyAllWindows()\n",
    "output.release()\n",
    "cap.release()"
   ]
  },
  {
   "cell_type": "code",
   "execution_count": 32,
   "id": "a28fcab4",
   "metadata": {},
   "outputs": [
    {
     "name": "stdout",
     "output_type": "stream",
     "text": [
      "Moviepy - Building video s2.mp4.\n",
      "MoviePy - Writing audio in s2TEMP_MPY_wvf_snd.mp3\n"
     ]
    },
    {
     "name": "stderr",
     "output_type": "stream",
     "text": [
      "                                                                                                                       \r"
     ]
    },
    {
     "name": "stdout",
     "output_type": "stream",
     "text": [
      "MoviePy - Done.\n",
      "Moviepy - Writing video s2.mp4\n",
      "\n"
     ]
    },
    {
     "name": "stderr",
     "output_type": "stream",
     "text": [
      "                                                                                                                       \r"
     ]
    },
    {
     "name": "stdout",
     "output_type": "stream",
     "text": [
      "Moviepy - Done !\n",
      "Moviepy - video ready s2.mp4\n"
     ]
    }
   ],
   "source": [
    "clip2 = mpy.VideoFileClip('moving.mp4')\n",
    "audio_background2 = mpy.AudioFileClip('IGP17SonifiedSRGBFD.mp3')\n",
    "final_clip2 = clip2.set_audio(audio_background2)\n",
    "final_clip2.write_videofile(\"s2.mp4\")"
   ]
  },
  {
   "cell_type": "code",
   "execution_count": 33,
   "id": "6c0412f9",
   "metadata": {},
   "outputs": [
    {
     "name": "stdout",
     "output_type": "stream",
     "text": [
      "Moviepy - Building video IGP17SRGBFD.mp4.\n",
      "MoviePy - Writing audio in IGP17SRGBFDTEMP_MPY_wvf_snd.mp3\n"
     ]
    },
    {
     "name": "stderr",
     "output_type": "stream",
     "text": [
      "                                                                                                                       \r"
     ]
    },
    {
     "name": "stdout",
     "output_type": "stream",
     "text": [
      "MoviePy - Done.\n",
      "Moviepy - Writing video IGP17SRGBFD.mp4\n",
      "\n"
     ]
    },
    {
     "name": "stderr",
     "output_type": "stream",
     "text": [
      "                                                                                                                       \r"
     ]
    },
    {
     "name": "stdout",
     "output_type": "stream",
     "text": [
      "Moviepy - Done !\n",
      "Moviepy - video ready IGP17SRGBFD.mp4\n"
     ]
    }
   ],
   "source": [
    "video0 = mpy.concatenate_videoclips([final_clip0s,clipi, final_clip2])\n",
    "video0.write_videofile('IGP17SRGBFD.mp4', fps=30)"
   ]
  }
 ],
 "metadata": {
  "kernelspec": {
   "display_name": "Python 3 (ipykernel)",
   "language": "python",
   "name": "python3"
  },
  "language_info": {
   "codemirror_mode": {
    "name": "ipython",
    "version": 3
   },
   "file_extension": ".py",
   "mimetype": "text/x-python",
   "name": "python",
   "nbconvert_exporter": "python",
   "pygments_lexer": "ipython3",
   "version": "3.9.12"
  }
 },
 "nbformat": 4,
 "nbformat_minor": 5
}
