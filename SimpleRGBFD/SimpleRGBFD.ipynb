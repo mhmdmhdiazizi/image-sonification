{
 "cells": [
  {
   "cell_type": "code",
   "execution_count": null,
   "id": "b359b5e4",
   "metadata": {},
   "outputs": [],
   "source": [
    "#Simple RGB full differential\n",
    "from PIL import Image\n",
    "import matplotlib.pyplot as plt\n",
    "#Read image\n",
    "img=Image.open('t1.jpg') \n",
    "#img =img.transpose(Image.ROTATE_90)\n",
    "#show image\n",
    "plt.imshow(img)\n",
    "plt.show()\n",
    "img.size"
   ]
  },
  {
   "cell_type": "code",
   "execution_count": 13,
   "id": "14cfb6df",
   "metadata": {},
   "outputs": [
    {
     "data": {
      "text/plain": [
       "(24, 24, 3)"
      ]
     },
     "execution_count": 13,
     "metadata": {},
     "output_type": "execute_result"
    },
    {
     "data": {
      "image/png": "[encoded data removed]",
      "text/plain": [
       "<Figure size 432x288 with 1 Axes>"
      ]
     },
     "metadata": {
      "needs_background": "light"
     },
     "output_type": "display_data"
    }
   ],
   "source": [
    "import numpy as np\n",
    "w, h = img.size\n",
    "#instrumentName = 'harp'  #actual sound must be chosen after importing MIDI file into a DAW\n",
    "#note_str=['X','C2', 'C3', 'G3', 'C4', 'E4', 'G4', 'A#4', 'C5', 'D5', 'E5', 'F#5', 'G5', 'G#5'] #first 13 notes of the harmonic series\n",
    "#instrumentName = 'drums'\n",
    "#note_str=['X','C2', 'D2', 'E2', 'F#2', 'G#2', 'A#2', 'G2', 'A2', 'C3', 'D#3', 'E3', 'C#3', 'A3'] #drum 'notes'\n",
    "# A, A#, B, C, C#, D, D#, E, F, F#, G, G#  #violon 'notes'\n",
    "note_str=['X','C1', 'C2', 'G2', 'C3', 'E3', 'G3', 'A3', 'B3', 'D4', 'E4', 'G4', 'A4', 'B4',\n",
    "         'D5', 'E5', 'G5', 'A5', 'B5','D6', 'E6', 'F#6', 'G6', 'A6',] #drum 'notes'\n",
    "min_note=36\n",
    "max_note=76\n",
    "note_range =len(note_str)  # you can try full note =>max_note-min_note   (+some changes in the last cell)\n",
    "small_img=img.resize((round(w/h*note_range),note_range),Image.BILINEAR)\n",
    "plt.imshow(small_img)\n",
    "np.array(small_img).shape"
   ]
  },
  {
   "cell_type": "code",
   "execution_count": 14,
   "id": "5cd826c3",
   "metadata": {},
   "outputs": [
    {
     "data": {
      "image/png": "[encoded data removed]",
      "text/plain": [
       "<Figure size 432x288 with 3 Axes>"
      ]
     },
     "metadata": {
      "needs_background": "light"
     },
     "output_type": "display_data"
    }
   ],
   "source": [
    "img0 = np.asarray(np.array(small_img)[:,:,0])\n",
    "#img0 = Image.fromarray(img0, 'L')\n",
    "img1 = np.asarray(np.array(small_img)[:,:,1])\n",
    "#img1 = Image.fromarray(img1, 'L')\n",
    "img2 = np.asarray(np.array(small_img)[:,:,2])\n",
    "#img2 = Image.fromarray(img2, 'L')\n",
    "\n",
    "fig, axs = plt.subplots(1,3)\n",
    "fig.suptitle('Horizontally stacked subplots')\n",
    "axs[0].imshow(img0)\n",
    "axs[0].set_title('R')\n",
    "axs[1].imshow(img1)\n",
    "axs[1].set_title('G')\n",
    "axs[2].imshow(img2)\n",
    "axs[2].set_title('B')\n",
    "\n",
    "\n",
    "for ax in axs.flat:\n",
    "    ax.set(xlabel='x-label', ylabel='y-label')\n",
    "\n",
    "# Hide x labels and tick labels for top plots and y ticks for right plots.\n",
    "for ax in axs.flat:\n",
    "    ax.label_outer()"
   ]
  },
  {
   "cell_type": "code",
   "execution_count": 15,
   "id": "b96c9dbc",
   "metadata": {},
   "outputs": [
    {
     "data": {
      "text/plain": [
       "(24, 24, 3)"
      ]
     },
     "execution_count": 15,
     "metadata": {},
     "output_type": "execute_result"
    }
   ],
   "source": [
    "pixels = np.array(small_img, dtype=int)\n",
    "pixels.shape"
   ]
  },
  {
   "cell_type": "code",
   "execution_count": 16,
   "id": "9b2c6893",
   "metadata": {},
   "outputs": [],
   "source": [
    "differential = np.zeros(pixels.shape)\n",
    "for k in range(0,pixels.shape[2]):\n",
    "    for i in range(1,note_range):\n",
    "        for j in range (1,round(w/h*note_range)):\n",
    "            differential[i,j,k]=max(abs(pixels[i,j,k]-pixels[i-1,j,k]),abs(pixels[i,j,k]-pixels[i,j-1,k]),\n",
    "                                abs(pixels[i,j,k]-pixels[i-1,j-1,k]))"
   ]
  },
  {
   "cell_type": "code",
   "execution_count": 17,
   "id": "ec9eabfc",
   "metadata": {},
   "outputs": [
    {
     "name": "stdout",
     "output_type": "stream",
     "text": [
      "88.0 0.0 10.789930555555555\n"
     ]
    },
    {
     "data": {
      "image/png": "[encoded data removed]",
      "text/plain": [
       "<Figure size 432x288 with 3 Axes>"
      ]
     },
     "metadata": {
      "needs_background": "light"
     },
     "output_type": "display_data"
    }
   ],
   "source": [
    "fig, axs = plt.subplots(1,3)\n",
    "fig.suptitle('Horizontally stacked subplots')\n",
    "axs[0].imshow(differential[:,:,0])\n",
    "axs[0].set_title('R')\n",
    "axs[1].imshow(differential[:,:,1])\n",
    "axs[1].set_title('G')\n",
    "axs[2].imshow(differential[:,:,2])\n",
    "axs[2].set_title('B')\n",
    "\n",
    "\n",
    "for ax in axs.flat:\n",
    "    ax.set(xlabel='x-label', ylabel='y-label')\n",
    "\n",
    "# Hide x labels and tick labels for top plots and y ticks for right plots.\n",
    "for ax in axs.flat:\n",
    "    ax.label_outer()\n",
    "print(np.max(differential),np.min(differential),np.average(differential))"
   ]
  },
  {
   "cell_type": "code",
   "execution_count": 18,
   "id": "29610740",
   "metadata": {},
   "outputs": [],
   "source": [
    "duration_scale= 64\n",
    "min_velocity = 0\n",
    "max_velocity = 127\n",
    "velocity_range = max_velocity- min_velocity\n",
    "x = differential\n",
    "duration_img = small_img\n",
    "pixels2 = np.round(np.array(duration_img, dtype=int) / duration_scale)\n",
    "velocity = np.round(x / np.max(x) * velocity_range) + min_velocity"
   ]
  },
  {
   "cell_type": "code",
   "execution_count": 19,
   "id": "aa992db5",
   "metadata": {},
   "outputs": [],
   "source": [
    "from midiutil import MIDIFile\n",
    "from audiolazy import str2midi\n",
    "bpm = 60\n",
    "midifile = MIDIFile(adjust_origin=True)\n",
    "midifile.addTempo(track=0, time=0, tempo=bpm)\n",
    "for k in range(0,differential.shape[2]):\n",
    "    for j in range(0,round(w/h*note_range)):\n",
    "        for i in range(1,note_range): #pitch=i + min_note\n",
    "            if velocity[i,j,k] >= 30*1.2:\n",
    "                midifile.addNote(track=0, channel=0, pitch=str2midi(note_str[i]), time=j, duration=pixels2[i,j,k]+1, volume=int(velocity[i,j,k]))\n",
    "    with open(\"srgbfd\"+str(k)+\".mid\", \"wb\") as f:\n",
    "        midifile.writeFile(f)"
   ]
  }
 ],
 "metadata": {
  "kernelspec": {
   "display_name": "Python 3 (ipykernel)",
   "language": "python",
   "name": "python3"
  },
  "language_info": {
   "codemirror_mode": {
    "name": "ipython",
    "version": 3
   },
   "file_extension": ".py",
   "mimetype": "text/x-python",
   "name": "python",
   "nbconvert_exporter": "python",
   "pygments_lexer": "ipython3",
   "version": "3.9.12"
  }
 },
 "nbformat": 4,
 "nbformat_minor": 5
}
