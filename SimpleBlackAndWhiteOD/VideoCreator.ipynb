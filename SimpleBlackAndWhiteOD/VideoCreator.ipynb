{
 "cells": [
  {
   "cell_type": "code",
   "execution_count": 4,
   "id": "238fa824",
   "metadata": {},
   "outputs": [],
   "source": [
    "import cv2\n",
    "import numpy as np\n",
    "from PIL import Image\n",
    "original_img= Image.open('t1.jpg')\n",
    "width = height = 920\n",
    "small_img = original_img.resize((width,height), Image.BILINEAR)\n",
    "small_img.save('t1.png')\n",
    "fourcc = 0\n",
    "video = cv2.VideoWriter('video.mp4', fourcc, 1, (width, height))\n",
    "img = cv2.imread('t1.png')\n",
    "seconds = 22\n",
    "for j in range(0,seconds):\n",
    "    #img = cv2.imread('t1.jpg')\n",
    "    video.write(img)\n",
    "cv2.destroyAllWindows()\n",
    "video.release()"
   ]
  },
  {
   "cell_type": "code",
   "execution_count": 5,
   "id": "6958aa0b",
   "metadata": {},
   "outputs": [],
   "source": [
    "# reading the input\n",
    "from PIL import ImageDraw\n",
    "cap = cv2.VideoCapture(\"video.mp4\")\n",
    "output = cv2.VideoWriter(\"moving.mp4\",fourcc, 1, (width, height))\n",
    "i = 0\n",
    "while(True):\n",
    "    ret, frame = cap.read()\n",
    "    if(ret):\n",
    "        i = i + 1\n",
    "        # adding no fill rectangle on each frame\n",
    "        #cv2.rectangle(frame, (int((i-1)/seconds*width),1), (int((i)/seconds*width),height-1),(255, 255, 255), 1)\n",
    "        #adding transparent rectangle on each frame\n",
    "        overlay = frame.copy()\n",
    "        # Rectangle parameters\n",
    "        x, y, w, h = int((i-1)/seconds*width),1, int(1.5/seconds*width), height-2\n",
    "        # A filled rectangle\n",
    "        cv2.rectangle(overlay, (x, y), (x+w, y+h), (255, 255, 255), -1)  \n",
    "        alpha = 0.25  # Transparency factor.\n",
    "        # Following line overlays transparent rectangle\n",
    "        # over the image\n",
    "        image_new = cv2.addWeighted(overlay, alpha, frame, 1 - alpha, 0)\n",
    "        # writing the new frame in output\n",
    "        output.write(image_new)\n",
    "        #cv2.imshow(\"output\", frame)\n",
    "        if cv2.waitKey(1) & 0xFF == ord('s'):\n",
    "            break\n",
    "    else:\n",
    "        break\n",
    "#print(i)\n",
    "cv2.destroyAllWindows()\n",
    "output.release()\n",
    "cap.release()"
   ]
  },
  {
   "cell_type": "code",
   "execution_count": 6,
   "id": "131cc60e",
   "metadata": {},
   "outputs": [
    {
     "name": "stdout",
     "output_type": "stream",
     "text": [
      "Moviepy - Building video output.mp4.\n",
      "MoviePy - Writing audio in outputTEMP_MPY_wvf_snd.mp3\n"
     ]
    },
    {
     "name": "stderr",
     "output_type": "stream",
     "text": [
      "                                                                                                                       \r"
     ]
    },
    {
     "name": "stdout",
     "output_type": "stream",
     "text": [
      "MoviePy - Done.\n",
      "Moviepy - Writing video output.mp4\n",
      "\n"
     ]
    },
    {
     "name": "stderr",
     "output_type": "stream",
     "text": [
      "                                                                                                                       \r"
     ]
    },
    {
     "name": "stdout",
     "output_type": "stream",
     "text": [
      "Moviepy - Done !\n",
      "Moviepy - video ready output.mp4\n"
     ]
    }
   ],
   "source": [
    "import moviepy.editor as mpe\n",
    "my_clip = mpe.VideoFileClip('moving.mp4')\n",
    "audio_background = mpe.AudioFileClip('IGP2SonifiedSBAWFD.mp3')\n",
    "final_clip = my_clip.set_audio(audio_background)\n",
    "final_clip.write_videofile(\"output.mp4\")"
   ]
  }
 ],
 "metadata": {
  "kernelspec": {
   "display_name": "Python 3 (ipykernel)",
   "language": "python",
   "name": "python3"
  },
  "language_info": {
   "codemirror_mode": {
    "name": "ipython",
    "version": 3
   },
   "file_extension": ".py",
   "mimetype": "text/x-python",
   "name": "python",
   "nbconvert_exporter": "python",
   "pygments_lexer": "ipython3",
   "version": "3.8.13"
  }
 },
 "nbformat": 4,
 "nbformat_minor": 5
}
