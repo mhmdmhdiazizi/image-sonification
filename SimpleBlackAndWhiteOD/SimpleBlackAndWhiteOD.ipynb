{
 "cells": [
  {
   "cell_type": "code",
   "execution_count": null,
   "metadata": {},
   "outputs": [],
   "source": [
    "#Simple black and white orthogonal differential\n",
    "from PIL import Image\n",
    "import matplotlib.pyplot as plt\n",
    "#Read image\n",
    "img=Image.open('t1.jpg') \n",
    "#img =img.transpose(Image.ROTATE_90)\n",
    "#show image\n",
    "plt.imshow(img)\n",
    "plt.show()\n",
    "img.size"
   ]
  },
  {
   "cell_type": "code",
   "execution_count": null,
   "metadata": {},
   "outputs": [],
   "source": [
    "w, h = img.size\n",
    "#instrumentName = 'harp'  #actual sound must be chosen after importing MIDI file into a DAW\n",
    "#note_str=['X','C2', 'C3', 'G3', 'C4', 'E4', 'G4', 'A#4', 'C5', 'D5', 'E5', 'F#5', 'G5', 'G#5'] #first 13 notes of the harmonic series\n",
    "#instrumentName = 'drums'\n",
    "#note_str=['X','C2', 'D2', 'E2', 'F#2', 'G#2', 'A#2', 'G2', 'A2', 'C3', 'D#3', 'E3', 'C#3', 'A3'] #drum 'notes'\n",
    "note_str=['X','C1', 'C2', 'G2', 'C3', 'E3', 'G3', 'A3', 'B3', 'D4', 'E4', 'G4', 'A4', 'B4',\n",
    "         'D5', 'E5', 'G5', 'A5', 'B5','D6', 'E6', 'F#6', 'G6', 'A6',] #drum 'notes'\n",
    "min_note=34\n",
    "max_note=81\n",
    "note_range = len(note_str) #max_note-min_note#\n",
    "small_img=img.resize((round(w/h*note_range),note_range),Image.BILINEAR)\n",
    "plt.imshow(small_img)\n",
    "small_img.size"
   ]
  },
  {
   "cell_type": "code",
   "execution_count": null,
   "metadata": {},
   "outputs": [],
   "source": [
    "grey_img = small_img.convert('L')\n",
    "plt.imshow(grey_img)"
   ]
  },
  {
   "cell_type": "code",
   "execution_count": 251,
   "metadata": {},
   "outputs": [
    {
     "data": {
      "text/plain": [
       "array([[  0,   0,   0,   0,   0,   0,   0,   0,   0,   0,   0,   0,   0,\n",
       "          0,   0,   0,   0,   0,   0,   0,   0,   0,   0,   0],\n",
       "       [  0,   0,   0,   0,   0,   0,   0,   0,   0,   0,   0,   0,   0,\n",
       "          0,   0,   0,   0,   0,   0,   0,   0,   0,   0,   0],\n",
       "       [  0,   0,   0,   0,   0,   0,   0,   0,   0,   0,   0,   0,   0,\n",
       "          0,   0,   0,   0,   0,   0,   0,   0,   0,   0,   0],\n",
       "       [  0,   0,   0,   0,   0,   0,   0,   0,   0,   0,   0,   1,   1,\n",
       "          1,   0,   0,   0,   0,   0,   0,   0,   0,   0,   0],\n",
       "       [  0,   0,   0,   0,   0,   0,   0,   0,   4,  13,  18,  33,  34,\n",
       "         34,  30,   9,   0,   0,   0,   0,   0,   0,   0,   0],\n",
       "       [  0,   0,   0,   0,   0,   0,   1,   9,  20,  22,  15,  22,  25,\n",
       "         31,  32,  28,  19,   3,   0,   0,   0,   0,   0,   0],\n",
       "       [  0,   0,   0,   0,   0,   1,  12,  16,  25,  24,  26,  32,  27,\n",
       "         26,  18,  14,  36,  31,   3,   0,   0,   0,   0,   0],\n",
       "       [  0,   0,   0,   0,   0,  10,  20,  13,  27,  23,  23,  35,  43,\n",
       "         38,  39,  38,  34,  41,  22,   0,   0,   0,   0,   0],\n",
       "       [  0,   0,   0,   0,   3,  13,  15,  28,  25,  17,  19,  43,  48,\n",
       "         41,  36,  46,  44,  33,  30,   4,   0,   0,   0,   0],\n",
       "       [  0,   0,   0,   0,  11,  32,  21,  31,  22,  14,  18,  32,  42,\n",
       "         38,  27,  32,  48,  50,  32,  13,   0,   0,   0,   0],\n",
       "       [  0,   0,   0,   0,   8,  30,  18,  35,  42,  28,  39,  66,  69,\n",
       "         45,  31,  27,  42,  46,  33,  22,   0,   0,   0,   0],\n",
       "       [  0,   0,   0,   0,  10,  32,  33,  41,  51,  47,  47, 122, 114,\n",
       "         59,  30,  40,  54,  51,  56,  29,   0,   0,   0,   0],\n",
       "       [  0,   0,   0,   0,   9,  20,  32,  40,  47,  48,  46,  83,  91,\n",
       "         32,  33,  35,  44,  41,  48,  26,   0,   0,   0,   0],\n",
       "       [  0,   0,   0,   0,   8,  20,  18,  22,  26,  29,  31,  50,  60,\n",
       "         47,  27,  50,  47,  24,  31,  22,   0,   0,   0,   0],\n",
       "       [  0,   0,   0,   0,   6,  22,  37,  17,  19,  32,  39,  47,  43,\n",
       "         46,  44,  60,  39,  15,  26,  12,   0,   0,   0,   0],\n",
       "       [  0,   0,   0,   0,   1,   9,  29,  28,  30,  26,  41,  47,  20,\n",
       "         30,  69,  64,  45,  23,  32,   4,   0,   0,   0,   0],\n",
       "       [  0,   0,   0,   0,   0,   3,  23,  44,  48,  31,  28,  38,  32,\n",
       "         51,  69,  58,  39,  35,  19,   0,   0,   0,   0,   0],\n",
       "       [  0,   0,   0,   0,   0,   0,  15,  47,  42,  27,  21,  20,  36,\n",
       "         44,  33,  39,  42,  17,   1,   0,   0,   0,   0,   0],\n",
       "       [  0,   0,   0,   0,   0,   0,   1,  12,  35,  33,  25,  38,  46,\n",
       "         62,  43,  24,  13,   1,   0,   0,   0,   0,   0,   0],\n",
       "       [  0,   0,   0,   0,   0,   0,   0,   0,   4,   8,  15,  27,  29,\n",
       "         33,  19,   3,   0,   0,   0,   0,   0,   0,   0,   0],\n",
       "       [  0,   0,   0,   0,   0,   0,   0,   0,   0,   0,   0,   0,   0,\n",
       "          0,   0,   0,   0,   0,   0,   0,   0,   0,   0,   0],\n",
       "       [  0,   0,   0,   0,   0,   0,   0,   0,   0,   0,   0,   0,   0,\n",
       "          0,   0,   0,   0,   0,   0,   0,   0,   0,   0,   0],\n",
       "       [  0,   0,   0,   0,   0,   0,   0,   0,   0,   0,   0,   0,   0,\n",
       "          0,   0,   0,   0,   0,   0,   0,   0,   0,   0,   0],\n",
       "       [  0,   0,   0,   0,   0,   0,   0,   0,   0,   0,   0,   0,   0,\n",
       "          0,   0,   0,   0,   0,   0,   0,   0,   0,   0,   0]])"
      ]
     },
     "execution_count": 251,
     "metadata": {},
     "output_type": "execute_result"
    }
   ],
   "source": [
    "import numpy as np\n",
    "pixels = np.array(grey_img, dtype=int)\n",
    "#pixels.shape"
   ]
  },
  {
   "cell_type": "code",
   "execution_count": 252,
   "metadata": {},
   "outputs": [
    {
     "name": "stdout",
     "output_type": "stream",
     "text": [
      "[ 0.  0.  0.  0.  3.  3.  5. 15.  2.  6.  4.  8.  5.  3.  3.  8. 10.  8.\n",
      "  8.  4.  0.  0.  0.  0.]\n"
     ]
    }
   ],
   "source": [
    "differential = np.zeros(pixels.shape)\n",
    "for i in range(1,note_range):\n",
    "    for j in range (0,round(w/h*note_range)):\n",
    "        differential[i,j]=abs(pixels[i,j]-pixels[i-1,j])"
   ]
  },
  {
   "cell_type": "code",
   "execution_count": null,
   "metadata": {},
   "outputs": [],
   "source": [
    "plt.imshow(np.asarray(differential))\n",
    "plt.show()\n",
    "print(np.max(differential),np.min(differential),np.average(differential))"
   ]
  },
  {
   "cell_type": "code",
   "execution_count": null,
   "metadata": {},
   "outputs": [],
   "source": [
    "duration_scale= 64\n",
    "min_velocity = 37\n",
    "max_velocity = 127\n",
    "velocity_range = max_velocity- min_velocity\n",
    "x = differential\n",
    "grey_img2 = small_img.convert('L')\n",
    "pixels2 = np.round(np.array(grey_img2, dtype=int) / duration_scale)\n",
    "velocity = np.round(x / np.max(x) * velocity_range) + min_velocity\n",
    "plt.imshow(np.asarray(velocity))"
   ]
  },
  {
   "cell_type": "code",
   "execution_count": 272,
   "metadata": {},
   "outputs": [],
   "source": [
    "from midiutil import MIDIFile\n",
    "from audiolazy import str2midi\n",
    "bpm = 64\n",
    "midifile = MIDIFile(adjust_origin=True)\n",
    "midifile.addTempo(track=0, time=0, tempo=bpm)    \n",
    "for j in range(0,round(w/h*note_range)):\n",
    "    for i in range(1,note_range):\n",
    "         midifile.addNote(track=0, channel=0, pitch=str2midi(note_str[i]), time=j, duration=pixels2[i,j]+1, volume=int(velocity[i,j]))\n",
    "with open(\"sbawod1.mid\", \"wb\") as f:\n",
    "    midifile.writeFile(f)"
   ]
  }
 ],
 "metadata": {
  "kernelspec": {
   "display_name": "Python 3 (ipykernel)",
   "language": "python",
   "name": "python3"
  },
  "language_info": {
   "codemirror_mode": {
    "name": "ipython",
    "version": 3
   },
   "file_extension": ".py",
   "mimetype": "text/x-python",
   "name": "python",
   "nbconvert_exporter": "python",
   "pygments_lexer": "ipython3",
   "version": "3.8.13"
  }
 },
 "nbformat": 4,
 "nbformat_minor": 4
}
