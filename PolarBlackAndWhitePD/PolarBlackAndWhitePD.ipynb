{
 "cells": [
  {
   "cell_type": "code",
   "execution_count": null,
   "id": "958f245a",
   "metadata": {},
   "outputs": [],
   "source": [
    "#Polar black and white parallel differential\n",
    "import cv2\n",
    "import numpy as np\n",
    "img = cv2.imread('t1.jpg')\n",
    "img = img.astype(np.float32)\n",
    "scale = 1.4\n",
    "max_radius = (np.sqrt(((img.shape[0] / 2.0) ** 2.0) + ((img.shape[1] / 2.0) ** 2.0))) / scale\n",
    "polar_image = cv2.linearPolar(img,(img.shape[0] / 2, img.shape[1] / 2), max_radius, cv2.WARP_FILL_OUTLIERS)\n",
    "polar_image = polar_image.astype(np.uint8)\n",
    "cv2.imwrite('polart1.jpg', polar_image)\n",
    "from PIL import Image\n",
    "import matplotlib.pyplot as plt\n",
    "#Read image\n",
    "img=Image.open('polart1.jpg') \n",
    "img =img.transpose(Image.ROTATE_90)\n",
    "#show image\n",
    "plt.imshow(img)\n",
    "plt.show()\n",
    "img.size"
   ]
  },
  {
   "cell_type": "code",
   "execution_count": null,
   "id": "21940855",
   "metadata": {},
   "outputs": [],
   "source": [
    "w, h = img.size\n",
    "#instrumentName = 'harp'  #actual sound must be chosen after importing MIDI file into a DAW\n",
    "#note_str=['X','C2', 'C3', 'G3', 'C4', 'E4', 'G4', 'A#4', 'C5', 'D5', 'E5', 'F#5', 'G5', 'G#5'] #first 13 notes of the harmonic series\n",
    "#instrumentName = 'drums'\n",
    "#note_str=['X','C2', 'D2', 'E2', 'F#2', 'G#2', 'A#2', 'G2', 'A2', 'C3', 'D#3', 'E3', 'C#3', 'A3'] #drum 'notes'\n",
    "note_str=['C1', 'C2', 'G2', 'C3', 'E3', 'G3', 'A3', 'B3', 'D4', 'E4', 'G4', 'A4', 'B4',\n",
    "         'D5', 'E5', 'G5', 'A5', 'B5','D6', 'E6', 'F#6', 'G6', 'A6',] #drum 'notes'\n",
    "min_note=26\n",
    "max_note=86\n",
    "note_range = max_note-min_note  ##len(note_str)\n",
    "small_img=img.resize((round(w/h*note_range),note_range),Image.BILINEAR)\n",
    "plt.imshow(small_img)\n",
    "small_img.size"
   ]
  },
  {
   "cell_type": "code",
   "execution_count": null,
   "id": "fe53218c",
   "metadata": {},
   "outputs": [],
   "source": [
    "grey_img = small_img.convert('L')\n",
    "plt.imshow(grey_img)"
   ]
  },
  {
   "cell_type": "code",
   "execution_count": 5,
   "id": "1169a017",
   "metadata": {},
   "outputs": [],
   "source": [
    "import numpy as np\n",
    "pixels = np.array(grey_img, dtype=int)\n",
    "#pixels.shape"
   ]
  },
  {
   "cell_type": "code",
   "execution_count": 6,
   "id": "a0bc4e01",
   "metadata": {},
   "outputs": [],
   "source": [
    "differential = np.zeros(pixels.shape)\n",
    "for j in range (1,round(w/h*note_range)):\n",
    "    for i in range(0,note_range):\n",
    "        differential[i,j]=abs(pixels[i,j]-pixels[i,j-1])"
   ]
  },
  {
   "cell_type": "code",
   "execution_count": null,
   "id": "ad099512",
   "metadata": {},
   "outputs": [],
   "source": [
    "plt.imshow(np.asarray(differential))\n",
    "plt.show()\n",
    "print(np.max(differential),np.min(differential),np.average(differential))"
   ]
  },
  {
   "cell_type": "code",
   "execution_count": null,
   "id": "b1229a3b",
   "metadata": {},
   "outputs": [],
   "source": [
    "duration_scale= 256\n",
    "min_velocity = 0\n",
    "max_velocity = 127\n",
    "velocity_range = max_velocity- min_velocity\n",
    "x = differential\n",
    "grey_img2 = small_img.convert('L')\n",
    "pixels2 = np.round(np.array(grey_img2, dtype=int) / duration_scale)\n",
    "velocity = np.round(x / np.max(x) * velocity_range) + min_velocity\n",
    "plt.imshow(np.asarray(velocity))"
   ]
  },
  {
   "cell_type": "code",
   "execution_count": 9,
   "id": "5d16d7c2",
   "metadata": {},
   "outputs": [],
   "source": [
    "from midiutil import MIDIFile\n",
    "from audiolazy import str2midi\n",
    "bpm = 60\n",
    "midifile = MIDIFile(adjust_origin=True)\n",
    "midifile.addTempo(track=0, time=0, tempo=bpm)    \n",
    "for j in range(0,round(w/h*note_range)):\n",
    "    for i in range(0,note_range):#pitch=str2midi(note_str[i])     #duration=pixels2[i,j]+1\n",
    "        if velocity[i,j] >= 30*1.5:\n",
    "             midifile.addNote(track=0, channel=0, pitch=i+min_note, time=j, duration=pixels2[i,j]+1, volume=int(velocity[i,j]))\n",
    "with open(\"pbawpd1.mid\", \"wb\") as f:\n",
    "    midifile.writeFile(f)"
   ]
  }
 ],
 "metadata": {
  "kernelspec": {
   "display_name": "Python 3 (ipykernel)",
   "language": "python",
   "name": "python3"
  },
  "language_info": {
   "codemirror_mode": {
    "name": "ipython",
    "version": 3
   },
   "file_extension": ".py",
   "mimetype": "text/x-python",
   "name": "python",
   "nbconvert_exporter": "python",
   "pygments_lexer": "ipython3",
   "version": "3.9.12"
  }
 },
 "nbformat": 4,
 "nbformat_minor": 5
}
