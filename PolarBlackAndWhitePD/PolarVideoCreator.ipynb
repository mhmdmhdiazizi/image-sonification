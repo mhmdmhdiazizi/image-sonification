{
 "cells": [
  {
   "cell_type": "code",
   "execution_count": 4,
   "id": "09fd3c4a",
   "metadata": {},
   "outputs": [],
   "source": [
    "import cv2\n",
    "import numpy as np\n",
    "from PIL import Image\n",
    "original_img= Image.open('t1.jpg')\n",
    "width = height = 920\n",
    "small_img = original_img.resize((width,height), Image.BILINEAR)\n",
    "small_img.save('t1.png')\n",
    "fourcc = 0\n",
    "video = cv2.VideoWriter('video.mp4', fourcc, 1, (width, height))\n",
    "img = cv2.imread('t1.png')\n",
    "seconds = 22\n",
    "for j in range(0,seconds):\n",
    "    #img = cv2.imread('t1.jpg')\n",
    "    video.write(img)\n",
    "cv2.destroyAllWindows()\n",
    "video.release()"
   ]
  },
  {
   "cell_type": "code",
   "execution_count": 5,
   "id": "a83de6a4",
   "metadata": {},
   "outputs": [],
   "source": [
    "# reading the input\n",
    "from PIL import ImageDraw\n",
    "cap = cv2.VideoCapture(\"video.mp4\")\n",
    "output = cv2.VideoWriter(\"moving.mp4\",fourcc, 1, (width, height))\n",
    "i = 0\n",
    "while(True):\n",
    "    ret, frame = cap.read()\n",
    "    if(ret):\n",
    "        i = i + 1\n",
    "        # adding no fill rectangle on each frame\n",
    "        #cv2.rectangle(frame, (int((i-1)/seconds*width),1), (int((i)/seconds*width),height-1),(255, 255, 255), 1)\n",
    "        #adding transparent rectangle on each frame\n",
    "        overlay = frame.copy()\n",
    "        max_radius = np.sqrt(((overlay.shape[0] / 2.0) ** 2.0) + ((overlay.shape[1] / 2.0) ** 2.0))\n",
    "        polar_image = cv2.linearPolar(overlay,(overlay.shape[0] / 2, overlay.shape[1] / 2), max_radius, cv2.WARP_FILL_OUTLIERS)\n",
    "        polar_image = polar_image.astype(np.uint8)\n",
    "        # Rectangle parameters\n",
    "        x, y, w, h = 0,int((i-1)/seconds*height),width , int(1/seconds*height) \n",
    "        # A filled rectangle\n",
    "        cv2.rectangle(polar_image, (x, y), (x+w, y+h), (255, 255, 255), -1)  \n",
    "        alpha = 0.25  # Transparency factor.\n",
    "        # Following line overlays transparent rectangle\n",
    "        # over the image\n",
    "        recovered_lin_polar_img = cv2.warpPolar(polar_image , (overlay.shape[0] , overlay.shape[1]),\n",
    "                                            (overlay.shape[0] / 2, overlay.shape[1] / 2), max_radius,\n",
    "                                            cv2.WARP_INVERSE_MAP);\n",
    "        image_new = cv2.addWeighted(recovered_lin_polar_img, alpha, frame, 1 - alpha, 0)  \n",
    "\n",
    "        \n",
    "        # writing the new frame in output\n",
    "        output.write(image_new)\n",
    "        #cv2.imshow(\"output\", frame)\n",
    "        if cv2.waitKey(1) & 0xFF == ord('s'):\n",
    "            break\n",
    "    else:\n",
    "        break\n",
    "#print(i)\n",
    "cv2.destroyAllWindows()\n",
    "output.release()\n",
    "cap.release()"
   ]
  },
  {
   "cell_type": "code",
   "execution_count": 6,
   "id": "294435c2",
   "metadata": {},
   "outputs": [
    {
     "name": "stdout",
     "output_type": "stream",
     "text": [
      "Moviepy - Building video output.mp4.\n",
      "MoviePy - Writing audio in outputTEMP_MPY_wvf_snd.mp3\n"
     ]
    },
    {
     "name": "stderr",
     "output_type": "stream",
     "text": [
      "                                                                                                                       \r"
     ]
    },
    {
     "name": "stdout",
     "output_type": "stream",
     "text": [
      "MoviePy - Done.\n",
      "Moviepy - Writing video output.mp4\n",
      "\n"
     ]
    },
    {
     "name": "stderr",
     "output_type": "stream",
     "text": [
      "                                                                                                                       \r"
     ]
    },
    {
     "name": "stdout",
     "output_type": "stream",
     "text": [
      "Moviepy - Done !\n",
      "Moviepy - video ready output.mp4\n"
     ]
    }
   ],
   "source": [
    "import moviepy.editor as mpe\n",
    "my_clip = mpe.VideoFileClip('moving.mp4')\n",
    "audio_background = mpe.AudioFileClip('IGP4SonifiedPBAWOD.mp3')\n",
    "final_clip = my_clip.set_audio(audio_background)\n",
    "final_clip.write_videofile(\"output.mp4\")"
   ]
  },
  {
   "cell_type": "code",
   "execution_count": null,
   "id": "4f358ea1",
   "metadata": {},
   "outputs": [],
   "source": []
  }
 ],
 "metadata": {
  "kernelspec": {
   "display_name": "Python 3 (ipykernel)",
   "language": "python",
   "name": "python3"
  },
  "language_info": {
   "codemirror_mode": {
    "name": "ipython",
    "version": 3
   },
   "file_extension": ".py",
   "mimetype": "text/x-python",
   "name": "python",
   "nbconvert_exporter": "python",
   "pygments_lexer": "ipython3",
   "version": "3.9.12"
  }
 },
 "nbformat": 4,
 "nbformat_minor": 5
}
